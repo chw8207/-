{
 "cells": [
  {
   "attachments": {},
   "cell_type": "markdown",
   "metadata": {},
   "source": [
    "### print() 함수"
   ]
  },
  {
   "cell_type": "code",
   "execution_count": 1,
   "metadata": {},
   "outputs": [
    {
     "name": "stdout",
     "output_type": "stream",
     "text": [
      "100\n"
     ]
    }
   ],
   "source": [
    "print('%d' % 100)"
   ]
  },
  {
   "cell_type": "code",
   "execution_count": 9,
   "metadata": {},
   "outputs": [
    {
     "name": "stdout",
     "output_type": "stream",
     "text": [
      "100 200\n"
     ]
    }
   ],
   "source": [
    "print('%d %d' % (100,200))"
   ]
  },
  {
   "cell_type": "code",
   "execution_count": 10,
   "metadata": {},
   "outputs": [
    {
     "name": "stdout",
     "output_type": "stream",
     "text": [
      "100\n"
     ]
    }
   ],
   "source": [
    "print('%d' % (100))"
   ]
  },
  {
   "attachments": {},
   "cell_type": "markdown",
   "metadata": {},
   "source": [
    "### break문"
   ]
  },
  {
   "cell_type": "code",
   "execution_count": 11,
   "metadata": {},
   "outputs": [
    {
     "name": "stdout",
     "output_type": "stream",
     "text": [
      "for문을 1번 실행했습니다.\n"
     ]
    }
   ],
   "source": [
    "for i in range(1, 100) : \n",
    "    print('for문을 %d번 실행했습니다.' % i)\n",
    "    break"
   ]
  },
  {
   "attachments": {},
   "cell_type": "markdown",
   "metadata": {},
   "source": [
    "### 함수"
   ]
  },
  {
   "cell_type": "code",
   "execution_count": 12,
   "metadata": {},
   "outputs": [
    {
     "name": "stdout",
     "output_type": "stream",
     "text": [
      "100과 200의 plus() 함수 결과는 300\n"
     ]
    }
   ],
   "source": [
    "# plus() : 두 정수의 합계 반환\n",
    "## 함수 선언 부분 \n",
    "def plus(v1, v2) : \n",
    "    result = 0\n",
    "    result = v1 + v2\n",
    "    return result\n",
    "\n",
    "## 전역변수 선언 부분\n",
    "hap = 0\n",
    "\n",
    "## 메인코드 부분\n",
    "hap = plus(100, 200)\n",
    "print('100과 200의 plus() 함수 결과는 %d' % hap)"
   ]
  },
  {
   "cell_type": "code",
   "execution_count": 14,
   "metadata": {},
   "outputs": [
    {
     "name": "stdout",
     "output_type": "stream",
     "text": [
      "func1()에서 a값 10\n",
      "func2()에서 a값 20\n"
     ]
    }
   ],
   "source": [
    "## 함수 선언 부분\n",
    "def func1() : \n",
    "    a = 10  # 지역 변수\n",
    "    print('func1()에서 a값 %d' % a)\n",
    "\n",
    "def func2() : \n",
    "    print('func2()에서 a값 %d' % a)\n",
    "\n",
    "## 전역변수 선언 부분\n",
    "a = 20  # 전역 변수\n",
    "\n",
    "## 메인코드 부분\n",
    "func1()\n",
    "func2()"
   ]
  },
  {
   "attachments": {},
   "cell_type": "markdown",
   "metadata": {},
   "source": [
    "#### global 예약어\n",
    "- global : 지역변수를 전역변수로 설정"
   ]
  },
  {
   "cell_type": "code",
   "execution_count": 15,
   "metadata": {},
   "outputs": [
    {
     "name": "stdout",
     "output_type": "stream",
     "text": [
      "func1()에서 a값 10\n",
      "func2()에서 a값 10\n"
     ]
    }
   ],
   "source": [
    "## 함수 선언 부분\n",
    "def func1() : \n",
    "    global a  # 이 함수 안에서 a는 전역 변수\n",
    "    a = 10\n",
    "    print('func1()에서 a값 %d' % a)\n",
    "\n",
    "def func2() : \n",
    "    print('func2()에서 a값 %d' % a)\n",
    "\n",
    "## 함수 변수 선언 부분\n",
    "a = 20  # 전역변수\n",
    "\n",
    "## 메인코드 부분\n",
    "func1()\n",
    "func2()"
   ]
  },
  {
   "attachments": {},
   "cell_type": "markdown",
   "metadata": {},
   "source": [
    "#### 반환값이 여러 개인 함수\n",
    "- 리스트 활용"
   ]
  },
  {
   "cell_type": "code",
   "execution_count": 16,
   "metadata": {},
   "outputs": [
    {
     "name": "stdout",
     "output_type": "stream",
     "text": [
      "multi()에서 반환한 값 ==> 300, -100\n"
     ]
    }
   ],
   "source": [
    "## 함수 선언 부분\n",
    "def multi(v1, v2) : \n",
    "    reList = []  # 반환할 리스트\n",
    "    res1 = v1 + v2\n",
    "    res2 = v1 - v2\n",
    "    reList.append(res1)\n",
    "    reList.append(res2)\n",
    "    return reList\n",
    "\n",
    "## 전역 변수 선언 부분\n",
    "myList = []\n",
    "hap, sub = 0, 0\n",
    "\n",
    "## 메인코드 부분\n",
    "myList = multi(100, 200)\n",
    "hap = myList[0]\n",
    "sub = myList[1]\n",
    "print('multi()에서 반환한 값 ==> %d, %d' % (hap, sub))"
   ]
  },
  {
   "cell_type": "code",
   "execution_count": 18,
   "metadata": {},
   "outputs": [
    {
     "name": "stdout",
     "output_type": "stream",
     "text": [
      "multi()에서 반환한 값 ==> 300, -100\n"
     ]
    }
   ],
   "source": [
    "# 리스트 사용 안 한 함수(myList 사용 안 함)\n",
    "## 함수 선언 부분\n",
    "def multi(v1, v2) : \n",
    "    reList = []  # 반환할 리스트\n",
    "    res1 = v1 + v2\n",
    "    res2 = v1 - v2\n",
    "    reList.append(res1)\n",
    "    reList.append(res2)\n",
    "    return reList\n",
    "\n",
    "## 전역 변수 선언 부분\n",
    "# myList = []\n",
    "hap, sub = 0, 0\n",
    "\n",
    "## 메인코드 부분\n",
    "hap, sub = multi(100, 200)\n",
    "print('multi()에서 반환한 값 ==> %d, %d' % (hap, sub))"
   ]
  },
  {
   "attachments": {},
   "cell_type": "markdown",
   "metadata": {},
   "source": [
    "### 리스트(배열)"
   ]
  },
  {
   "cell_type": "code",
   "execution_count": 19,
   "metadata": {},
   "outputs": [],
   "source": [
    "# 리스트 생성\n",
    "aa = [10, 20, 30, 40]"
   ]
  },
  {
   "cell_type": "code",
   "execution_count": 21,
   "metadata": {},
   "outputs": [
    {
     "name": "stdout",
     "output_type": "stream",
     "text": [
      "10\n"
     ]
    }
   ],
   "source": [
    "# 리스트 접근\n",
    "print(aa[0])\n",
    "aa[1] = 200"
   ]
  },
  {
   "attachments": {},
   "cell_type": "markdown",
   "metadata": {},
   "source": [
    "#### 빈 리스트 생성과 항목 추가"
   ]
  },
  {
   "cell_type": "code",
   "execution_count": 22,
   "metadata": {},
   "outputs": [
    {
     "name": "stdout",
     "output_type": "stream",
     "text": [
      "[0, 0, 0, 0]\n"
     ]
    }
   ],
   "source": [
    "aa = []\n",
    "aa.append(0)\n",
    "aa.append(0)\n",
    "aa.append(0)\n",
    "aa.append(0)\n",
    "print(aa)"
   ]
  },
  {
   "cell_type": "code",
   "execution_count": 23,
   "metadata": {},
   "outputs": [
    {
     "data": {
      "text/plain": [
       "100"
      ]
     },
     "execution_count": 23,
     "metadata": {},
     "output_type": "execute_result"
    }
   ],
   "source": [
    "# 반복문 활용하기\n",
    "aa = []\n",
    "for i in range(0, 100) : \n",
    "    aa.append(0)\n",
    "\n",
    "len(aa)"
   ]
  },
  {
   "cell_type": "code",
   "execution_count": 24,
   "metadata": {},
   "outputs": [
    {
     "name": "stdout",
     "output_type": "stream",
     "text": [
      "합계==> 100\n"
     ]
    }
   ],
   "source": [
    "aa = []\n",
    "for i in range(0, 4) : \n",
    "    aa.append(0)\n",
    "hap = 0\n",
    "\n",
    "for i in range(0, 4) : \n",
    "    aa[i] = int(input(str(i+1) + '번째 숫자 : '))\n",
    "hap = 0\n",
    "\n",
    "for i in range(0, 4) : \n",
    "    hap = hap + aa[i]\n",
    "\n",
    "print('합계==> %d' % hap)"
   ]
  },
  {
   "attachments": {},
   "cell_type": "markdown",
   "metadata": {},
   "source": [
    "#### 리스트 값에 접근하기"
   ]
  },
  {
   "cell_type": "code",
   "execution_count": 25,
   "metadata": {},
   "outputs": [
    {
     "name": "stdout",
     "output_type": "stream",
     "text": [
      "aa[-1]은 40, aa[-2]는 30\n"
     ]
    }
   ],
   "source": [
    "aa = [10, 20, 30, 40]\n",
    "print('aa[-1]은 %d, aa[-2]는 %d' % (aa[-1], aa[-2]))"
   ]
  },
  {
   "attachments": {},
   "cell_type": "markdown",
   "metadata": {},
   "source": [
    "#### 리스트 조작 함수 다뤄보기"
   ]
  },
  {
   "cell_type": "code",
   "execution_count": 35,
   "metadata": {},
   "outputs": [
    {
     "name": "stdout",
     "output_type": "stream",
     "text": [
      "현재 리스트 : [30, 10, 20]\n",
      "append(40) 후의 리스트 : [30, 10, 20, 40]\n",
      "pop()으로 추출한 값 : 40\n",
      "pop() 후의 리스트 : [30, 10, 20]\n",
      "sort() 후의 리스트 : [10, 20, 30]\n",
      "reverse() 후의 리스트 : [30, 20, 10]\n",
      "20값의 위치 : 1\n",
      "insert(2, 222) 후의 리스트 : [30, 20, 222, 10]\n",
      "remove(222) 후의 리스트 : [30, 20, 10]\n",
      "extend[77, 88, 77] 후의 리스트 : [30, 20, 10, 77, 88, 77]\n",
      "77값의 개수 : 2\n"
     ]
    }
   ],
   "source": [
    "myList = [30, 10, 20]\n",
    "print('현재 리스트 : %s' % myList)\n",
    "\n",
    "myList.append(40)\n",
    "print('append(40) 후의 리스트 : %s' % myList)\n",
    "\n",
    "print('pop()으로 추출한 값 : %s' % myList.pop())\n",
    "print('pop() 후의 리스트 : %s' % myList)\n",
    "\n",
    "myList.sort()\n",
    "print('sort() 후의 리스트 : %s' % myList)\n",
    "\n",
    "myList.reverse()\n",
    "print('reverse() 후의 리스트 : %s' % myList)\n",
    "\n",
    "print('20값의 위치 : %d' % myList.index(20))\n",
    "\n",
    "myList.insert(2, 222)\n",
    "print('insert(2, 222) 후의 리스트 : %s' % myList)\n",
    "myList.remove(222)\n",
    "print('remove(222) 후의 리스트 : %s' % myList)\n",
    "\n",
    "myList.extend([77, 88, 77])\n",
    "print('extend[77, 88, 77] 후의 리스트 : %s' % myList)\n",
    "\n",
    "print('77값의 개수 : %d' % myList.count(77))"
   ]
  },
  {
   "attachments": {},
   "cell_type": "markdown",
   "metadata": {},
   "source": [
    "#### 2차원 리스트"
   ]
  },
  {
   "cell_type": "code",
   "execution_count": 36,
   "metadata": {},
   "outputs": [],
   "source": [
    "# 2차원 리스트 정의\n",
    "aa = [[1,2,3,4],\n",
    "      [5,6,7,8],\n",
    "      [9,10,11,12]]"
   ]
  },
  {
   "cell_type": "code",
   "execution_count": 37,
   "metadata": {},
   "outputs": [
    {
     "name": "stdout",
     "output_type": "stream",
     "text": [
      "  1  2  3  4\n",
      "  5  6  7  8\n",
      "  9 10 11 12\n"
     ]
    }
   ],
   "source": [
    "# 중첩 for문 활용\n",
    "list1 = []\n",
    "list2 = []\n",
    "value = 1\n",
    "for i in range(0, 3) : \n",
    "    for k in range(0, 4) : \n",
    "        list1.append(value)\n",
    "        value += 1\n",
    "    list2.append(list1)\n",
    "    list1 = []\n",
    "\n",
    "for i in range(0, 3) : \n",
    "    for k in range(0, 4) : \n",
    "        print('%3d' % list2[i][k], end = '')\n",
    "    print('')"
   ]
  }
 ],
 "metadata": {
  "kernelspec": {
   "display_name": "Python 3",
   "language": "python",
   "name": "python3"
  },
  "language_info": {
   "codemirror_mode": {
    "name": "ipython",
    "version": 3
   },
   "file_extension": ".py",
   "mimetype": "text/x-python",
   "name": "python",
   "nbconvert_exporter": "python",
   "pygments_lexer": "ipython3",
   "version": "3.9.13"
  },
  "orig_nbformat": 4
 },
 "nbformat": 4,
 "nbformat_minor": 2
}
