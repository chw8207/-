{
 "cells": [
  {
   "attachments": {},
   "cell_type": "markdown",
   "metadata": {},
   "source": [
    "### print() 함수"
   ]
  },
  {
   "cell_type": "code",
   "execution_count": 1,
   "metadata": {},
   "outputs": [
    {
     "name": "stdout",
     "output_type": "stream",
     "text": [
      "100\n"
     ]
    }
   ],
   "source": [
    "print('%d' % 100)"
   ]
  },
  {
   "cell_type": "code",
   "execution_count": 2,
   "metadata": {},
   "outputs": [
    {
     "name": "stdout",
     "output_type": "stream",
     "text": [
      "100 200\n"
     ]
    }
   ],
   "source": [
    "print('%d %d' % (100,200))"
   ]
  },
  {
   "cell_type": "code",
   "execution_count": 3,
   "metadata": {},
   "outputs": [
    {
     "name": "stdout",
     "output_type": "stream",
     "text": [
      "100\n"
     ]
    }
   ],
   "source": [
    "print('%d' % (100))"
   ]
  },
  {
   "attachments": {},
   "cell_type": "markdown",
   "metadata": {},
   "source": [
    "### break문"
   ]
  },
  {
   "cell_type": "code",
   "execution_count": 4,
   "metadata": {},
   "outputs": [
    {
     "name": "stdout",
     "output_type": "stream",
     "text": [
      "for문을 1번 실행했습니다.\n"
     ]
    }
   ],
   "source": [
    "for i in range(1, 100) : \n",
    "    print('for문을 %d번 실행했습니다.' % i)\n",
    "    break"
   ]
  },
  {
   "attachments": {},
   "cell_type": "markdown",
   "metadata": {},
   "source": [
    "### 함수"
   ]
  },
  {
   "cell_type": "code",
   "execution_count": 5,
   "metadata": {},
   "outputs": [
    {
     "name": "stdout",
     "output_type": "stream",
     "text": [
      "100과 200의 plus() 함수 결과는 300\n"
     ]
    }
   ],
   "source": [
    "# plus() : 두 정수의 합계 반환\n",
    "## 함수 선언 부분 \n",
    "def plus(v1, v2) : \n",
    "    result = 0\n",
    "    result = v1 + v2\n",
    "    return result\n",
    "\n",
    "## 전역변수 선언 부분\n",
    "hap = 0\n",
    "\n",
    "## 메인코드 부분\n",
    "hap = plus(100, 200)\n",
    "print('100과 200의 plus() 함수 결과는 %d' % hap)"
   ]
  },
  {
   "cell_type": "code",
   "execution_count": 6,
   "metadata": {},
   "outputs": [
    {
     "name": "stdout",
     "output_type": "stream",
     "text": [
      "func1()에서 a값 10\n",
      "func2()에서 a값 20\n"
     ]
    }
   ],
   "source": [
    "## 함수 선언 부분\n",
    "def func1() : \n",
    "    a = 10  # 지역 변수\n",
    "    print('func1()에서 a값 %d' % a)\n",
    "\n",
    "def func2() : \n",
    "    print('func2()에서 a값 %d' % a)\n",
    "\n",
    "## 전역변수 선언 부분\n",
    "a = 20  # 전역 변수\n",
    "\n",
    "## 메인코드 부분\n",
    "func1()\n",
    "func2()"
   ]
  },
  {
   "attachments": {},
   "cell_type": "markdown",
   "metadata": {},
   "source": [
    "#### global 예약어\n",
    "- global : 지역변수를 전역변수로 설정"
   ]
  },
  {
   "cell_type": "code",
   "execution_count": 7,
   "metadata": {},
   "outputs": [
    {
     "name": "stdout",
     "output_type": "stream",
     "text": [
      "func1()에서 a값 10\n",
      "func2()에서 a값 10\n"
     ]
    }
   ],
   "source": [
    "## 함수 선언 부분\n",
    "def func1() : \n",
    "    global a  # 이 함수 안에서 a는 전역 변수\n",
    "    a = 10\n",
    "    print('func1()에서 a값 %d' % a)\n",
    "\n",
    "def func2() : \n",
    "    print('func2()에서 a값 %d' % a)\n",
    "\n",
    "## 함수 변수 선언 부분\n",
    "a = 20  # 전역변수\n",
    "\n",
    "## 메인코드 부분\n",
    "func1()\n",
    "func2()"
   ]
  },
  {
   "attachments": {},
   "cell_type": "markdown",
   "metadata": {},
   "source": [
    "#### 반환값이 여러 개인 함수\n",
    "- 리스트 활용"
   ]
  },
  {
   "cell_type": "code",
   "execution_count": 8,
   "metadata": {},
   "outputs": [
    {
     "name": "stdout",
     "output_type": "stream",
     "text": [
      "multi()에서 반환한 값 ==> 300, -100\n"
     ]
    }
   ],
   "source": [
    "## 함수 선언 부분\n",
    "def multi(v1, v2) : \n",
    "    reList = []  # 반환할 리스트\n",
    "    res1 = v1 + v2\n",
    "    res2 = v1 - v2\n",
    "    reList.append(res1)\n",
    "    reList.append(res2)\n",
    "    return reList\n",
    "\n",
    "## 전역 변수 선언 부분\n",
    "myList = []\n",
    "hap, sub = 0, 0\n",
    "\n",
    "## 메인코드 부분\n",
    "myList = multi(100, 200)\n",
    "hap = myList[0]\n",
    "sub = myList[1]\n",
    "print('multi()에서 반환한 값 ==> %d, %d' % (hap, sub))"
   ]
  },
  {
   "cell_type": "code",
   "execution_count": 9,
   "metadata": {},
   "outputs": [
    {
     "name": "stdout",
     "output_type": "stream",
     "text": [
      "multi()에서 반환한 값 ==> 300, -100\n"
     ]
    }
   ],
   "source": [
    "# 리스트 사용 안 한 함수(myList 사용 안 함)\n",
    "## 함수 선언 부분\n",
    "def multi(v1, v2) : \n",
    "    reList = []  # 반환할 리스트\n",
    "    res1 = v1 + v2\n",
    "    res2 = v1 - v2\n",
    "    reList.append(res1)\n",
    "    reList.append(res2)\n",
    "    return reList\n",
    "\n",
    "## 전역 변수 선언 부분\n",
    "# myList = []\n",
    "hap, sub = 0, 0\n",
    "\n",
    "## 메인코드 부분\n",
    "hap, sub = multi(100, 200)\n",
    "print('multi()에서 반환한 값 ==> %d, %d' % (hap, sub))"
   ]
  },
  {
   "attachments": {},
   "cell_type": "markdown",
   "metadata": {},
   "source": [
    "### 리스트(배열)"
   ]
  },
  {
   "cell_type": "code",
   "execution_count": 10,
   "metadata": {},
   "outputs": [],
   "source": [
    "# 리스트 생성\n",
    "aa = [10, 20, 30, 40]"
   ]
  },
  {
   "cell_type": "code",
   "execution_count": 11,
   "metadata": {},
   "outputs": [
    {
     "name": "stdout",
     "output_type": "stream",
     "text": [
      "10\n"
     ]
    }
   ],
   "source": [
    "# 리스트 접근\n",
    "print(aa[0])\n",
    "aa[1] = 200"
   ]
  },
  {
   "attachments": {},
   "cell_type": "markdown",
   "metadata": {},
   "source": [
    "#### 빈 리스트 생성과 항목 추가"
   ]
  },
  {
   "cell_type": "code",
   "execution_count": 12,
   "metadata": {},
   "outputs": [
    {
     "name": "stdout",
     "output_type": "stream",
     "text": [
      "[0, 0, 0, 0]\n"
     ]
    }
   ],
   "source": [
    "aa = []\n",
    "aa.append(0)\n",
    "aa.append(0)\n",
    "aa.append(0)\n",
    "aa.append(0)\n",
    "print(aa)"
   ]
  },
  {
   "cell_type": "code",
   "execution_count": 13,
   "metadata": {},
   "outputs": [
    {
     "data": {
      "text/plain": [
       "100"
      ]
     },
     "execution_count": 13,
     "metadata": {},
     "output_type": "execute_result"
    }
   ],
   "source": [
    "# 반복문 활용하기\n",
    "aa = []\n",
    "for i in range(0, 100) : \n",
    "    aa.append(0)\n",
    "\n",
    "len(aa)"
   ]
  },
  {
   "cell_type": "code",
   "execution_count": 14,
   "metadata": {},
   "outputs": [
    {
     "name": "stdout",
     "output_type": "stream",
     "text": [
      "합계==> 100\n"
     ]
    }
   ],
   "source": [
    "aa = []\n",
    "for i in range(0, 4) : \n",
    "    aa.append(0)\n",
    "hap = 0\n",
    "\n",
    "for i in range(0, 4) : \n",
    "    aa[i] = int(input(str(i+1) + '번째 숫자 : '))\n",
    "hap = 0\n",
    "\n",
    "for i in range(0, 4) : \n",
    "    hap = hap + aa[i]\n",
    "\n",
    "print('합계==> %d' % hap)"
   ]
  },
  {
   "attachments": {},
   "cell_type": "markdown",
   "metadata": {},
   "source": [
    "#### 리스트 값에 접근하기"
   ]
  },
  {
   "cell_type": "code",
   "execution_count": 15,
   "metadata": {},
   "outputs": [
    {
     "name": "stdout",
     "output_type": "stream",
     "text": [
      "aa[-1]은 40, aa[-2]는 30\n"
     ]
    }
   ],
   "source": [
    "aa = [10, 20, 30, 40]\n",
    "print('aa[-1]은 %d, aa[-2]는 %d' % (aa[-1], aa[-2]))"
   ]
  },
  {
   "attachments": {},
   "cell_type": "markdown",
   "metadata": {},
   "source": [
    "#### 리스트 조작 함수 다뤄보기"
   ]
  },
  {
   "cell_type": "code",
   "execution_count": 16,
   "metadata": {},
   "outputs": [
    {
     "name": "stdout",
     "output_type": "stream",
     "text": [
      "현재 리스트 : [30, 10, 20]\n",
      "append(40) 후의 리스트 : [30, 10, 20, 40]\n",
      "pop()으로 추출한 값 : 40\n",
      "pop() 후의 리스트 : [30, 10, 20]\n",
      "sort() 후의 리스트 : [10, 20, 30]\n",
      "reverse() 후의 리스트 : [30, 20, 10]\n",
      "20값의 위치 : 1\n",
      "insert(2, 222) 후의 리스트 : [30, 20, 222, 10]\n",
      "remove(222) 후의 리스트 : [30, 20, 10]\n",
      "extend[77, 88, 77] 후의 리스트 : [30, 20, 10, 77, 88, 77]\n",
      "77값의 개수 : 2\n"
     ]
    }
   ],
   "source": [
    "myList = [30, 10, 20]\n",
    "print('현재 리스트 : %s' % myList)\n",
    "\n",
    "myList.append(40)\n",
    "print('append(40) 후의 리스트 : %s' % myList)\n",
    "\n",
    "print('pop()으로 추출한 값 : %s' % myList.pop())\n",
    "print('pop() 후의 리스트 : %s' % myList)\n",
    "\n",
    "myList.sort()\n",
    "print('sort() 후의 리스트 : %s' % myList)\n",
    "\n",
    "myList.reverse()\n",
    "print('reverse() 후의 리스트 : %s' % myList)\n",
    "\n",
    "print('20값의 위치 : %d' % myList.index(20))\n",
    "\n",
    "myList.insert(2, 222)\n",
    "print('insert(2, 222) 후의 리스트 : %s' % myList)\n",
    "myList.remove(222)\n",
    "print('remove(222) 후의 리스트 : %s' % myList)\n",
    "\n",
    "myList.extend([77, 88, 77])\n",
    "print('extend[77, 88, 77] 후의 리스트 : %s' % myList)\n",
    "\n",
    "print('77값의 개수 : %d' % myList.count(77))"
   ]
  },
  {
   "attachments": {},
   "cell_type": "markdown",
   "metadata": {},
   "source": [
    "#### 2차원 리스트"
   ]
  },
  {
   "cell_type": "code",
   "execution_count": 17,
   "metadata": {},
   "outputs": [],
   "source": [
    "# 2차원 리스트 정의\n",
    "aa = [[1,2,3,4],\n",
    "      [5,6,7,8],\n",
    "      [9,10,11,12]]"
   ]
  },
  {
   "cell_type": "code",
   "execution_count": 18,
   "metadata": {},
   "outputs": [
    {
     "name": "stdout",
     "output_type": "stream",
     "text": [
      "  1  2  3  4\n",
      "  5  6  7  8\n",
      "  9 10 11 12\n"
     ]
    }
   ],
   "source": [
    "# 중첩 for문 활용\n",
    "list1 = []\n",
    "list2 = []\n",
    "value = 1\n",
    "for i in range(0, 3) : \n",
    "    for k in range(0, 4) : \n",
    "        list1.append(value)\n",
    "        value += 1\n",
    "    list2.append(list1)\n",
    "    list1 = []\n",
    "\n",
    "for i in range(0, 3) : \n",
    "    for k in range(0, 4) : \n",
    "        print('%3d' % list2[i][k], end = '')\n",
    "    print('')"
   ]
  },
  {
   "cell_type": "code",
   "execution_count": 19,
   "metadata": {},
   "outputs": [
    {
     "name": "stdout",
     "output_type": "stream",
     "text": [
      "  12  11  10\n",
      "   9   8   7\n",
      "   6   5   4\n",
      "   3   2   1\n",
      "배열의 합계 ==> 78\n"
     ]
    }
   ],
   "source": [
    "# 4행 3열짜리 리스트를 생성한 후 12~1을 입력하고 출력\n",
    "# 배열의 모든 숫자 합계 계산\n",
    "list1 = []\n",
    "list2 = []\n",
    "value = 12\n",
    "for i in range(0, 4) : \n",
    "    for k in range(0, 3) : \n",
    "        list1.append(value)\n",
    "        value -= 1\n",
    "    list2.append(list1)\n",
    "    list1 = []\n",
    "\n",
    "for i in range(0, 4) : \n",
    "    for k in range(0, 3) : \n",
    "        print('%4d' % list2[i][k], end='')\n",
    "    print('')\n",
    "\n",
    "sum = 0\n",
    "for i in range(0, 4) :\n",
    "     for k in range(0, 3) : \n",
    "         sum += list2[i][k]\n",
    "print(f'배열의 합계 ==> {sum}')"
   ]
  },
  {
   "cell_type": "markdown",
   "metadata": {},
   "source": [
    "#### 컴프리헨션"
   ]
  },
  {
   "cell_type": "code",
   "execution_count": 20,
   "metadata": {},
   "outputs": [
    {
     "data": {
      "text/plain": [
       "[1, 2, 3, 4, 5]"
      ]
     },
     "execution_count": 20,
     "metadata": {},
     "output_type": "execute_result"
    }
   ],
   "source": [
    "# 1부터 5까지 저장된 리스트 만들기\n",
    "numList = []\n",
    "for num in range(1, 6) : \n",
    "    numList.append(num)\n",
    "numList"
   ]
  },
  {
   "cell_type": "code",
   "execution_count": 21,
   "metadata": {},
   "outputs": [
    {
     "data": {
      "text/plain": [
       "[1, 2, 3, 4, 5]"
      ]
     },
     "execution_count": 21,
     "metadata": {},
     "output_type": "execute_result"
    }
   ],
   "source": [
    "# 컴프리헨션 사용하기\n",
    "numList = [num for num in range(1, 6)]\n",
    "numList"
   ]
  },
  {
   "cell_type": "code",
   "execution_count": 22,
   "metadata": {},
   "outputs": [
    {
     "data": {
      "text/plain": [
       "[1, 4, 9, 16, 25]"
      ]
     },
     "execution_count": 22,
     "metadata": {},
     "output_type": "execute_result"
    }
   ],
   "source": [
    "# 1~5의 제곱으로 구성된 리스트 만들기\n",
    "numList = [num**2 for num in range(1,6)]\n",
    "numList"
   ]
  },
  {
   "cell_type": "code",
   "execution_count": 23,
   "metadata": {},
   "outputs": [
    {
     "data": {
      "text/plain": [
       "[3, 6, 9, 12, 15, 18]"
      ]
     },
     "execution_count": 23,
     "metadata": {},
     "output_type": "execute_result"
    }
   ],
   "source": [
    "# 1~20 숫자 중 3의 배수로만 구성된 리스트 만들기\n",
    "numList = [num for num in range(1, 21) if num%3==0]\n",
    "numList"
   ]
  },
  {
   "cell_type": "code",
   "execution_count": 24,
   "metadata": {},
   "outputs": [
    {
     "data": {
      "text/plain": [
       "[[0, 0, 0, 0], [0, 0, 0, 0], [0, 0, 0, 0]]"
      ]
     },
     "execution_count": 24,
     "metadata": {},
     "output_type": "execute_result"
    }
   ],
   "source": [
    "# 3*4크기의 0이 채워진 2차원 리스트 만들기\n",
    "list2 = [[0 for _ in range(4)]for _ in range(3)]\n",
    "list2"
   ]
  },
  {
   "cell_type": "markdown",
   "metadata": {},
   "source": [
    "### 딕셔너리(가변형 데이터 형식)"
   ]
  },
  {
   "cell_type": "markdown",
   "metadata": {},
   "source": [
    "#### 딕셔너리 생성"
   ]
  },
  {
   "cell_type": "code",
   "execution_count": 25,
   "metadata": {},
   "outputs": [
    {
     "data": {
      "text/plain": [
       "{1: 'a', 2: 'b', 3: 'c'}"
      ]
     },
     "execution_count": 25,
     "metadata": {},
     "output_type": "execute_result"
    }
   ],
   "source": [
    "dic1 = {1:'a', 2:'b', 3:'c'}\n",
    "dic1"
   ]
  },
  {
   "cell_type": "code",
   "execution_count": 26,
   "metadata": {},
   "outputs": [
    {
     "data": {
      "text/plain": [
       "{'학번': 1000, '이름': '홍길동', '학과': '컴퓨터학과'}"
      ]
     },
     "execution_count": 26,
     "metadata": {},
     "output_type": "execute_result"
    }
   ],
   "source": [
    "# 학생 정보 표현하기\n",
    "student1 = {'학번':1000, '이름':'홍길동', '학과':'컴퓨터학과'}\n",
    "student1"
   ]
  },
  {
   "cell_type": "code",
   "execution_count": 27,
   "metadata": {},
   "outputs": [
    {
     "data": {
      "text/plain": [
       "{'학번': 1000, '이름': '홍길동', '학과': '컴퓨터학과', '연락처': '010-1111-2222'}"
      ]
     },
     "execution_count": 27,
     "metadata": {},
     "output_type": "execute_result"
    }
   ],
   "source": [
    "# 연락처 추가하기\n",
    "student1['연락처'] = '010-1111-2222'\n",
    "student1"
   ]
  },
  {
   "cell_type": "code",
   "execution_count": 28,
   "metadata": {},
   "outputs": [
    {
     "data": {
      "text/plain": [
       "{'학번': 1000, '이름': '홍길동', '학과': '파이썬학과', '연락처': '010-1111-2222'}"
      ]
     },
     "execution_count": 28,
     "metadata": {},
     "output_type": "execute_result"
    }
   ],
   "source": [
    "# 학과 수정하기\n",
    "student1['학과'] = '파이썬학과'\n",
    "student1"
   ]
  },
  {
   "cell_type": "code",
   "execution_count": 29,
   "metadata": {},
   "outputs": [
    {
     "data": {
      "text/plain": [
       "{'학번': 1000, '이름': '홍길동', '연락처': '010-1111-2222'}"
      ]
     },
     "execution_count": 29,
     "metadata": {},
     "output_type": "execute_result"
    }
   ],
   "source": [
    "# 학과 삭제\n",
    "del(student1['학과'])\n",
    "student1"
   ]
  },
  {
   "cell_type": "code",
   "execution_count": 30,
   "metadata": {},
   "outputs": [
    {
     "data": {
      "text/plain": [
       "{'학번': 2000, '이름': '홍길동', '학과': '파이썬학과'}"
      ]
     },
     "execution_count": 30,
     "metadata": {},
     "output_type": "execute_result"
    }
   ],
   "source": [
    "# 딕셔너리 키는 유일하므로 마지막에 있는 키가 적용됨.\n",
    "student1 = {'학번':1000, '이름':'홍길동', '학과':'파이썬학과', '학번':2000}\n",
    "student1"
   ]
  },
  {
   "cell_type": "markdown",
   "metadata": {},
   "source": [
    "#### 딕셔너리 사용"
   ]
  },
  {
   "cell_type": "code",
   "execution_count": 31,
   "metadata": {},
   "outputs": [
    {
     "data": {
      "text/plain": [
       "2000"
      ]
     },
     "execution_count": 31,
     "metadata": {},
     "output_type": "execute_result"
    }
   ],
   "source": [
    "# 키로 값에 접근해보기\n",
    "student1['학번']"
   ]
  },
  {
   "cell_type": "code",
   "execution_count": 32,
   "metadata": {},
   "outputs": [
    {
     "data": {
      "text/plain": [
       "'홍길동'"
      ]
     },
     "execution_count": 32,
     "metadata": {},
     "output_type": "execute_result"
    }
   ],
   "source": [
    "student1['이름']"
   ]
  },
  {
   "cell_type": "code",
   "execution_count": 33,
   "metadata": {},
   "outputs": [
    {
     "data": {
      "text/plain": [
       "'파이썬학과'"
      ]
     },
     "execution_count": 33,
     "metadata": {},
     "output_type": "execute_result"
    }
   ],
   "source": [
    "student1['학과']"
   ]
  },
  {
   "cell_type": "code",
   "execution_count": 34,
   "metadata": {},
   "outputs": [
    {
     "data": {
      "text/plain": [
       "'홍길동'"
      ]
     },
     "execution_count": 34,
     "metadata": {},
     "output_type": "execute_result"
    }
   ],
   "source": [
    "# .get(키) 함수 사용하기 : 없는 키를 찾을 때 유용함.\n",
    "student1.get('이름')"
   ]
  },
  {
   "cell_type": "code",
   "execution_count": 35,
   "metadata": {},
   "outputs": [],
   "source": [
    "student1.get('주소')"
   ]
  },
  {
   "cell_type": "code",
   "execution_count": 36,
   "metadata": {},
   "outputs": [
    {
     "data": {
      "text/plain": [
       "dict_keys(['학번', '이름', '학과'])"
      ]
     },
     "execution_count": 36,
     "metadata": {},
     "output_type": "execute_result"
    }
   ],
   "source": [
    "# 딕셔너리의 모든 키 반환하기\n",
    "student1.keys()"
   ]
  },
  {
   "cell_type": "code",
   "execution_count": 37,
   "metadata": {},
   "outputs": [
    {
     "data": {
      "text/plain": [
       "['학번', '이름', '학과']"
      ]
     },
     "execution_count": 37,
     "metadata": {},
     "output_type": "execute_result"
    }
   ],
   "source": [
    "list(student1.keys())"
   ]
  },
  {
   "cell_type": "code",
   "execution_count": 38,
   "metadata": {},
   "outputs": [
    {
     "data": {
      "text/plain": [
       "dict_values([2000, '홍길동', '파이썬학과'])"
      ]
     },
     "execution_count": 38,
     "metadata": {},
     "output_type": "execute_result"
    }
   ],
   "source": [
    "# 딕셔너리의 모든 값을 확인해보기\n",
    "student1.values()"
   ]
  },
  {
   "cell_type": "code",
   "execution_count": 39,
   "metadata": {},
   "outputs": [
    {
     "data": {
      "text/plain": [
       "[2000, '홍길동', '파이썬학과']"
      ]
     },
     "execution_count": 39,
     "metadata": {},
     "output_type": "execute_result"
    }
   ],
   "source": [
    "list(student1.values())"
   ]
  },
  {
   "cell_type": "code",
   "execution_count": 40,
   "metadata": {},
   "outputs": [
    {
     "data": {
      "text/plain": [
       "dict_items([('학번', 2000), ('이름', '홍길동'), ('학과', '파이썬학과')])"
      ]
     },
     "execution_count": 40,
     "metadata": {},
     "output_type": "execute_result"
    }
   ],
   "source": [
    "# .items() : 튜플 형태 구할 수 있음.\n",
    "student1.items()"
   ]
  },
  {
   "cell_type": "code",
   "execution_count": 41,
   "metadata": {},
   "outputs": [
    {
     "data": {
      "text/plain": [
       "True"
      ]
     },
     "execution_count": 41,
     "metadata": {},
     "output_type": "execute_result"
    }
   ],
   "source": [
    "# 딕셔너리에 키가 있는지 여부 확인하기\n",
    "'이름' in student1"
   ]
  },
  {
   "cell_type": "code",
   "execution_count": 42,
   "metadata": {},
   "outputs": [
    {
     "data": {
      "text/plain": [
       "False"
      ]
     },
     "execution_count": 42,
     "metadata": {},
     "output_type": "execute_result"
    }
   ],
   "source": [
    "'주소' in student1"
   ]
  },
  {
   "cell_type": "code",
   "execution_count": 43,
   "metadata": {},
   "outputs": [
    {
     "name": "stdout",
     "output_type": "stream",
     "text": [
      "이름 --> 트와이스\n",
      "구성원 수 --> 9\n",
      "데뷔 --> 서바이벌 식스틴\n",
      "대표곡 --> SIGNAL\n"
     ]
    }
   ],
   "source": [
    "# for문을 활용하여 딕셔너리의 모든 값 출력해보기\n",
    "singer = {}\n",
    "\n",
    "singer['이름'] = '트와이스'\n",
    "singer['구성원 수'] = 9\n",
    "singer['데뷔'] = '서바이벌 식스틴'\n",
    "singer['대표곡'] = 'SIGNAL'\n",
    "\n",
    "for k in singer.keys() : \n",
    "    print('%s --> %s' % (k, singer[k]))"
   ]
  },
  {
   "cell_type": "markdown",
   "metadata": {},
   "source": [
    "### 세트(가변형 데이터 형식)"
   ]
  },
  {
   "cell_type": "code",
   "execution_count": 44,
   "metadata": {},
   "outputs": [
    {
     "data": {
      "text/plain": [
       "{1, 2, 3, 4}"
      ]
     },
     "execution_count": 44,
     "metadata": {},
     "output_type": "execute_result"
    }
   ],
   "source": [
    "mySet1 = {1,2,3,3,3,4}\n",
    "mySet1"
   ]
  },
  {
   "cell_type": "code",
   "execution_count": 45,
   "metadata": {},
   "outputs": [
    {
     "data": {
      "text/plain": [
       "{'도시락', '바나나', '삼각김밥'}"
      ]
     },
     "execution_count": 45,
     "metadata": {},
     "output_type": "execute_result"
    }
   ],
   "source": [
    "# 편의점 물품 정리할 때 종류만 파악하고 싶을 때\n",
    "salesList = ['삼각김밥', '바나나', '도시락', '삼각김밥', '삼각김밥', '도시락', '삼각김밥']\n",
    "set(salesList)"
   ]
  },
  {
   "cell_type": "code",
   "execution_count": 46,
   "metadata": {},
   "outputs": [
    {
     "data": {
      "text/plain": [
       "{4, 5}"
      ]
     },
     "execution_count": 46,
     "metadata": {},
     "output_type": "execute_result"
    }
   ],
   "source": [
    "mySet1 = {1,2,3,4,5}\n",
    "mySet2 = {4,5,6,7}\n",
    "mySet1 & mySet2 # 교집합"
   ]
  },
  {
   "cell_type": "code",
   "execution_count": 47,
   "metadata": {},
   "outputs": [
    {
     "data": {
      "text/plain": [
       "{1, 2, 3, 4, 5, 6, 7}"
      ]
     },
     "execution_count": 47,
     "metadata": {},
     "output_type": "execute_result"
    }
   ],
   "source": [
    "mySet1 | mySet2 # 합집합"
   ]
  },
  {
   "cell_type": "code",
   "execution_count": 48,
   "metadata": {},
   "outputs": [
    {
     "data": {
      "text/plain": [
       "{1, 2, 3}"
      ]
     },
     "execution_count": 48,
     "metadata": {},
     "output_type": "execute_result"
    }
   ],
   "source": [
    "mySet1 - mySet2 # 차집합"
   ]
  },
  {
   "cell_type": "code",
   "execution_count": 49,
   "metadata": {},
   "outputs": [
    {
     "data": {
      "text/plain": [
       "{1, 2, 3, 6, 7}"
      ]
     },
     "execution_count": 49,
     "metadata": {},
     "output_type": "execute_result"
    }
   ],
   "source": [
    "mySet1 ^ mySet2 # 대칭 차집합"
   ]
  },
  {
   "cell_type": "code",
   "execution_count": 50,
   "metadata": {},
   "outputs": [
    {
     "data": {
      "text/plain": [
       "{4, 5}"
      ]
     },
     "execution_count": 50,
     "metadata": {},
     "output_type": "execute_result"
    }
   ],
   "source": [
    "# 함수 사용하기\n",
    "mySet1.intersection(mySet2)"
   ]
  },
  {
   "cell_type": "code",
   "execution_count": 51,
   "metadata": {},
   "outputs": [
    {
     "data": {
      "text/plain": [
       "{1, 2, 3, 4, 5, 6, 7}"
      ]
     },
     "execution_count": 51,
     "metadata": {},
     "output_type": "execute_result"
    }
   ],
   "source": [
    "mySet1.union(mySet2)"
   ]
  },
  {
   "cell_type": "code",
   "execution_count": 52,
   "metadata": {},
   "outputs": [
    {
     "data": {
      "text/plain": [
       "{1, 2, 3}"
      ]
     },
     "execution_count": 52,
     "metadata": {},
     "output_type": "execute_result"
    }
   ],
   "source": [
    "mySet1.difference(mySet2)"
   ]
  },
  {
   "cell_type": "code",
   "execution_count": 53,
   "metadata": {},
   "outputs": [
    {
     "data": {
      "text/plain": [
       "{1, 2, 3, 6, 7}"
      ]
     },
     "execution_count": 53,
     "metadata": {},
     "output_type": "execute_result"
    }
   ],
   "source": [
    "mySet1.symmetric_difference(mySet2)"
   ]
  },
  {
   "cell_type": "markdown",
   "metadata": {},
   "source": [
    "### 문자열(불변형 데이터 형식)"
   ]
  },
  {
   "cell_type": "markdown",
   "metadata": {},
   "source": [
    "#### 문자열 기본"
   ]
  },
  {
   "cell_type": "code",
   "execution_count": 54,
   "metadata": {},
   "outputs": [
    {
     "data": {
      "text/plain": [
       "'자'"
      ]
     },
     "execution_count": 54,
     "metadata": {},
     "output_type": "execute_result"
    }
   ],
   "source": [
    "ss = '자료구조&알고리즘'\n",
    "ss[0]"
   ]
  },
  {
   "cell_type": "code",
   "execution_count": 55,
   "metadata": {},
   "outputs": [
    {
     "data": {
      "text/plain": [
       "'료구조'"
      ]
     },
     "execution_count": 55,
     "metadata": {},
     "output_type": "execute_result"
    }
   ],
   "source": [
    "ss[1:4]"
   ]
  },
  {
   "cell_type": "code",
   "execution_count": 56,
   "metadata": {},
   "outputs": [
    {
     "data": {
      "text/plain": [
       "'&알고리즘'"
      ]
     },
     "execution_count": 56,
     "metadata": {},
     "output_type": "execute_result"
    }
   ],
   "source": [
    "ss[4:]"
   ]
  },
  {
   "cell_type": "code",
   "execution_count": 57,
   "metadata": {},
   "outputs": [
    {
     "data": {
      "text/plain": [
       "'파이썬최고'"
      ]
     },
     "execution_count": 57,
     "metadata": {},
     "output_type": "execute_result"
    }
   ],
   "source": [
    "# 문자열의 연결과 반복\n",
    "ss = '파이썬' + '최고'\n",
    "ss"
   ]
  },
  {
   "cell_type": "code",
   "execution_count": 58,
   "metadata": {},
   "outputs": [
    {
     "data": {
      "text/plain": [
       "'파이썬파이썬파이썬'"
      ]
     },
     "execution_count": 58,
     "metadata": {},
     "output_type": "execute_result"
    }
   ],
   "source": [
    "ss = '파이썬' * 3\n",
    "ss"
   ]
  },
  {
   "cell_type": "markdown",
   "metadata": {},
   "source": [
    "#### 문자열 검색"
   ]
  },
  {
   "cell_type": "code",
   "execution_count": 59,
   "metadata": {},
   "outputs": [
    {
     "name": "stdout",
     "output_type": "stream",
     "text": [
      "4 21 21 -1\n",
      "4 21 21\n",
      "True False True\n"
     ]
    }
   ],
   "source": [
    "ss = '파이썬 공부는 즐겁습니다. 물론 모든 공부가 다 재미있지는 앉죠. ^^'\n",
    "ss.count('공부')\n",
    "print(ss.find('공부'), ss.rfind('공부'), ss.find('공부',5), ss.find('없다'))\n",
    "print(ss.index('공부'), ss.rindex('공부'), ss.index('공부',5)) #ss.index('없다'))\n",
    "print(ss.startswith('파이썬'), ss.startswith('파이썬',10), ss.endswith('^^'))"
   ]
  },
  {
   "cell_type": "markdown",
   "metadata": {},
   "source": [
    "#### 문자열 분리와 결합"
   ]
  },
  {
   "cell_type": "code",
   "execution_count": 60,
   "metadata": {},
   "outputs": [
    {
     "data": {
      "text/plain": [
       "['Python을', '열심히', '공부', '중']"
      ]
     },
     "execution_count": 60,
     "metadata": {},
     "output_type": "execute_result"
    }
   ],
   "source": [
    "ss = 'Python을 열심히 공부 중'\n",
    "ss.split()"
   ]
  },
  {
   "cell_type": "code",
   "execution_count": 61,
   "metadata": {},
   "outputs": [
    {
     "data": {
      "text/plain": [
       "['하나', '둘', '셋']"
      ]
     },
     "execution_count": 61,
     "metadata": {},
     "output_type": "execute_result"
    }
   ],
   "source": [
    "ss = '하나:둘:셋'\n",
    "ss.split(':')"
   ]
  },
  {
   "cell_type": "code",
   "execution_count": 62,
   "metadata": {},
   "outputs": [
    {
     "data": {
      "text/plain": [
       "['하나', '둘', '셋']"
      ]
     },
     "execution_count": 62,
     "metadata": {},
     "output_type": "execute_result"
    }
   ],
   "source": [
    "ss = '하나\\n둘\\n셋'\n",
    "ss.splitlines()"
   ]
  },
  {
   "cell_type": "code",
   "execution_count": 63,
   "metadata": {},
   "outputs": [
    {
     "data": {
      "text/plain": [
       "'파%이%썬'"
      ]
     },
     "execution_count": 63,
     "metadata": {},
     "output_type": "execute_result"
    }
   ],
   "source": [
    "# 구분자.join('문자열')\n",
    "ss = '%'\n",
    "ss.join('파이썬')"
   ]
  },
  {
   "cell_type": "markdown",
   "metadata": {},
   "source": [
    "#### 함수이름 대입"
   ]
  },
  {
   "cell_type": "code",
   "execution_count": 64,
   "metadata": {},
   "outputs": [
    {
     "data": {
      "text/plain": [
       "[2022, 12, 31]"
      ]
     },
     "execution_count": 64,
     "metadata": {},
     "output_type": "execute_result"
    }
   ],
   "source": [
    "before = ['2022', '12', '31']\n",
    "after = list(map(int, before))\n",
    "after"
   ]
  },
  {
   "cell_type": "markdown",
   "metadata": {},
   "source": [
    "### 튜플(불변형 데이터 형식)"
   ]
  },
  {
   "cell_type": "markdown",
   "metadata": {},
   "source": [
    "#### 튜플 생성과 삭제"
   ]
  },
  {
   "cell_type": "code",
   "execution_count": 65,
   "metadata": {},
   "outputs": [
    {
     "data": {
      "text/plain": [
       "(10, 20, 30)"
      ]
     },
     "execution_count": 65,
     "metadata": {},
     "output_type": "execute_result"
    }
   ],
   "source": [
    "tt1 = (10,20,30)\n",
    "tt1\n"
   ]
  },
  {
   "cell_type": "code",
   "execution_count": 66,
   "metadata": {},
   "outputs": [
    {
     "data": {
      "text/plain": [
       "(10, 20, 30)"
      ]
     },
     "execution_count": 66,
     "metadata": {},
     "output_type": "execute_result"
    }
   ],
   "source": [
    "tt2 = 10,20,30\n",
    "tt2"
   ]
  },
  {
   "cell_type": "code",
   "execution_count": 67,
   "metadata": {},
   "outputs": [
    {
     "data": {
      "text/plain": [
       "10"
      ]
     },
     "execution_count": 67,
     "metadata": {},
     "output_type": "execute_result"
    }
   ],
   "source": [
    "# 항목이 하나인 튜플 : 뒤에 쉼표를 붙여야 함.\n",
    "tt3 = (10)\n",
    "tt3"
   ]
  },
  {
   "cell_type": "code",
   "execution_count": 68,
   "metadata": {},
   "outputs": [
    {
     "data": {
      "text/plain": [
       "10"
      ]
     },
     "execution_count": 68,
     "metadata": {},
     "output_type": "execute_result"
    }
   ],
   "source": [
    "tt4 = 10\n",
    "tt4"
   ]
  },
  {
   "cell_type": "code",
   "execution_count": 69,
   "metadata": {},
   "outputs": [
    {
     "data": {
      "text/plain": [
       "(10,)"
      ]
     },
     "execution_count": 69,
     "metadata": {},
     "output_type": "execute_result"
    }
   ],
   "source": [
    "tt5 = (10,)\n",
    "tt5"
   ]
  },
  {
   "cell_type": "code",
   "execution_count": 70,
   "metadata": {},
   "outputs": [
    {
     "data": {
      "text/plain": [
       "(10,)"
      ]
     },
     "execution_count": 70,
     "metadata": {},
     "output_type": "execute_result"
    }
   ],
   "source": [
    "tt6 = 10,\n",
    "tt6"
   ]
  },
  {
   "cell_type": "code",
   "execution_count": 71,
   "metadata": {},
   "outputs": [],
   "source": [
    "# 튜플 지우기\n",
    "del(tt1)\n",
    "del(tt2)"
   ]
  },
  {
   "cell_type": "markdown",
   "metadata": {},
   "source": [
    "#### 튜플 사용"
   ]
  },
  {
   "cell_type": "code",
   "execution_count": 72,
   "metadata": {},
   "outputs": [
    {
     "data": {
      "text/plain": [
       "10"
      ]
     },
     "execution_count": 72,
     "metadata": {},
     "output_type": "execute_result"
    }
   ],
   "source": [
    "# 튜플 항목에 접근\n",
    "tt1 = (10,20,30,40)\n",
    "tt1[0]"
   ]
  },
  {
   "cell_type": "code",
   "execution_count": 73,
   "metadata": {},
   "outputs": [
    {
     "data": {
      "text/plain": [
       "60"
      ]
     },
     "execution_count": 73,
     "metadata": {},
     "output_type": "execute_result"
    }
   ],
   "source": [
    "tt1[0]+tt1[1]+tt1[2]"
   ]
  },
  {
   "cell_type": "code",
   "execution_count": 74,
   "metadata": {},
   "outputs": [
    {
     "data": {
      "text/plain": [
       "(20, 30)"
      ]
     },
     "execution_count": 74,
     "metadata": {},
     "output_type": "execute_result"
    }
   ],
   "source": [
    "# 튜플 범위에 접근하기\n",
    "tt1[1:3]"
   ]
  },
  {
   "cell_type": "code",
   "execution_count": 75,
   "metadata": {},
   "outputs": [
    {
     "data": {
      "text/plain": [
       "(20, 30, 40)"
      ]
     },
     "execution_count": 75,
     "metadata": {},
     "output_type": "execute_result"
    }
   ],
   "source": [
    "tt1[1:]"
   ]
  },
  {
   "cell_type": "code",
   "execution_count": 76,
   "metadata": {},
   "outputs": [
    {
     "data": {
      "text/plain": [
       "(10, 20, 30)"
      ]
     },
     "execution_count": 76,
     "metadata": {},
     "output_type": "execute_result"
    }
   ],
   "source": [
    "tt1[:3]"
   ]
  },
  {
   "cell_type": "code",
   "execution_count": 77,
   "metadata": {},
   "outputs": [
    {
     "data": {
      "text/plain": [
       "(10, 20, 30, 40, 'A', 'B')"
      ]
     },
     "execution_count": 77,
     "metadata": {},
     "output_type": "execute_result"
    }
   ],
   "source": [
    "# 튜플의 덧셈 및 곱셈\n",
    "tt2 = ('A', 'B')\n",
    "tt1 + tt2"
   ]
  },
  {
   "cell_type": "code",
   "execution_count": 78,
   "metadata": {},
   "outputs": [
    {
     "data": {
      "text/plain": [
       "('A', 'B', 'A', 'B', 'A', 'B')"
      ]
     },
     "execution_count": 78,
     "metadata": {},
     "output_type": "execute_result"
    }
   ],
   "source": [
    "tt2 * 3"
   ]
  },
  {
   "cell_type": "code",
   "execution_count": 79,
   "metadata": {},
   "outputs": [
    {
     "data": {
      "text/plain": [
       "(10, 20, 30, 40)"
      ]
     },
     "execution_count": 79,
     "metadata": {},
     "output_type": "execute_result"
    }
   ],
   "source": [
    "# 튜플->리스트->튜플로 변환해보기\n",
    "myTuple = (10,20,30)\n",
    "myList = list(myTuple)\n",
    "myList.append(40)\n",
    "myTuple = tuple(myList)\n",
    "myTuple"
   ]
  },
  {
   "cell_type": "markdown",
   "metadata": {},
   "source": [
    "#### 연습문제"
   ]
  },
  {
   "cell_type": "code",
   "execution_count": 80,
   "metadata": {},
   "outputs": [
    {
     "name": "stdout",
     "output_type": "stream",
     "text": [
      "ㅎ"
     ]
    }
   ],
   "source": [
    "while True : \n",
    "    print('ㅎ', end='')\n",
    "    break"
   ]
  },
  {
   "cell_type": "code",
   "execution_count": 81,
   "metadata": {},
   "outputs": [
    {
     "name": "stdout",
     "output_type": "stream",
     "text": [
      "100과 200의 addValue() 함수 결과는 300\n"
     ]
    }
   ],
   "source": [
    "def addValue(v1, v2) : \n",
    "    reuslt = 0\n",
    "    reuslt = v1 + v2\n",
    "    return reuslt\n",
    "\n",
    "hap = addValue(100,200)\n",
    "print('100과 200의 addValue() 함수 결과는 %d' % hap)"
   ]
  },
  {
   "cell_type": "code",
   "execution_count": 82,
   "metadata": {},
   "outputs": [
    {
     "name": "stdout",
     "output_type": "stream",
     "text": [
      "0\n",
      "200\n"
     ]
    }
   ],
   "source": [
    "def func1() : \n",
    "    var = 100\n",
    "\n",
    "def func2() : \n",
    "    global var\n",
    "    var = 200\n",
    "\n",
    "var = 0\n",
    "func1()\n",
    "print(var)\n",
    "func2()\n",
    "print(var)"
   ]
  },
  {
   "cell_type": "code",
   "execution_count": 83,
   "metadata": {},
   "outputs": [
    {
     "data": {
      "text/plain": [
       "200"
      ]
     },
     "execution_count": 83,
     "metadata": {},
     "output_type": "execute_result"
    }
   ],
   "source": [
    "list = []\n",
    "for i in range(0, 200) : \n",
    "    list.append(0)\n",
    "len(list)"
   ]
  },
  {
   "cell_type": "code",
   "execution_count": 84,
   "metadata": {},
   "outputs": [
    {
     "name": "stdout",
     "output_type": "stream",
     "text": [
      "10\n",
      "40\n",
      "[20, 30]\n",
      "[30, 40]\n"
     ]
    }
   ],
   "source": [
    "aa = [10,20,30,40]\n",
    "print(aa[0])\n",
    "print(aa[-1])\n",
    "print(aa[1:3])\n",
    "print(aa[2:])"
   ]
  },
  {
   "cell_type": "code",
   "execution_count": 85,
   "metadata": {},
   "outputs": [
    {
     "name": "stdout",
     "output_type": "stream",
     "text": [
      "[]\n"
     ]
    }
   ],
   "source": [
    "dataList = [data for data in range(1, 10) if num%4==0]\n",
    "print(dataList)"
   ]
  },
  {
   "cell_type": "code",
   "execution_count": 86,
   "metadata": {},
   "outputs": [
    {
     "name": "stdout",
     "output_type": "stream",
     "text": [
      "#\n"
     ]
    }
   ],
   "source": [
    "myStr = '#'\n",
    "myStr.join('IT쿡북')\n",
    "print(myStr)"
   ]
  },
  {
   "cell_type": "markdown",
   "metadata": {},
   "source": [
    "### 자동 로또 번호 생성기"
   ]
  },
  {
   "cell_type": "code",
   "execution_count": 92,
   "metadata": {},
   "outputs": [
    {
     "name": "stdout",
     "output_type": "stream",
     "text": [
      "** 로또 번호 생성을 시작합니다. **\n",
      "자동번호-->   1  5 21 26 31 44 \n",
      "자동번호-->   2 16 18 32 40 44 \n",
      "자동번호-->   5 11 19 23 28 42 \n",
      "자동번호-->  12 14 17 36 37 40 \n",
      "자동번호-->   2 20 22 34 40 41 \n"
     ]
    }
   ],
   "source": [
    "import random\n",
    "\n",
    "# 전역변수 선언 부분\n",
    "totalLotto = []\n",
    "lotto = []\n",
    "pickNum = 0\n",
    "count = 0\n",
    "\n",
    "# 메인 코드 부분\n",
    "print('** 로또 번호 생성을 시작합니다. **')\n",
    "count = int(input('몇 번을 뽑을까요?'))\n",
    "\n",
    "for _ in range(count) : \n",
    "    lotto = []\n",
    "    while True : \n",
    "        pickNum = random.randint(1, 45)\n",
    "        if pickNum not in lotto : \n",
    "            lotto.append(pickNum)\n",
    "        if len(lotto) >= 6 : \n",
    "            break\n",
    "    totalLotto.append(lotto)\n",
    "\n",
    "for lotto in totalLotto : \n",
    "    lotto.sort()\n",
    "    print('자동번호--> ', end=' ')\n",
    "    for i in range(0, 6) : \n",
    "        print('%2d' % lotto[i], end=' ')\n",
    "    print()"
   ]
  },
  {
   "cell_type": "markdown",
   "metadata": {},
   "source": [
    "### 가장 많이 나온 글자 세기"
   ]
  },
  {
   "cell_type": "code",
   "execution_count": 96,
   "metadata": {},
   "outputs": [
    {
     "name": "stdout",
     "output_type": "stream",
     "text": [
      "원문 \n",
      "나 보기가 역겨워 가실 때에는 말없이 고이 보내 드리오리다\n",
      "영변에 약산 진달래꽃 아름 따다 가실 길에 뿌리오리다\n",
      "가시는 걸음 걸음 놓인 그 꽃을 사뿐히 즈려 밟고 가시옵소서\n",
      "나 보기가 역겨워 가실 때에는 죽어도 아니 눈물 흘리오리다\n",
      "\n",
      "-------------------------\n",
      "문자 빈도수(4회 이상)\n",
      "-------------------------\n",
      "가 --> 7\n",
      "에 --> 4\n",
      "리 --> 6\n",
      "다 --> 4\n"
     ]
    }
   ],
   "source": [
    "# 전역변수 선언 부분\n",
    "poet = '''\n",
    "나 보기가 역겨워 가실 때에는 말없이 고이 보내 드리오리다\n",
    "영변에 약산 진달래꽃 아름 따다 가실 길에 뿌리오리다\n",
    "가시는 걸음 걸음 놓인 그 꽃을 사뿐히 즈려 밟고 가시옵소서\n",
    "나 보기가 역겨워 가실 때에는 죽어도 아니 눈물 흘리오리다\n",
    "'''\n",
    "countDic = {}\n",
    "\n",
    "# 메인 코드 부분\n",
    "if __name__ == '__main__' : \n",
    "    for ch in poet : \n",
    "        if ch.isalpha() : \n",
    "            if ch in countDic : \n",
    "                countDic[ch] += 1\n",
    "            else : \n",
    "                countDic[ch] = 1\n",
    "\n",
    "print('원문', poet)\n",
    "print('-------------------------') \n",
    "print('문자 빈도수(4회 이상)')\n",
    "print('-------------------------') \n",
    "for key in countDic : \n",
    "    if countDic[key] >= 4 : \n",
    "        print(key, '-->', countDic[key])"
   ]
  }
 ],
 "metadata": {
  "kernelspec": {
   "display_name": "Python 3",
   "language": "python",
   "name": "python3"
  },
  "language_info": {
   "codemirror_mode": {
    "name": "ipython",
    "version": 3
   },
   "file_extension": ".py",
   "mimetype": "text/x-python",
   "name": "python",
   "nbconvert_exporter": "python",
   "pygments_lexer": "ipython3",
   "version": "3.9.13"
  },
  "orig_nbformat": 4
 },
 "nbformat": 4,
 "nbformat_minor": 2
}
