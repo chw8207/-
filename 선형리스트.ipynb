{
  "nbformat": 4,
  "nbformat_minor": 0,
  "metadata": {
    "colab": {
      "provenance": [],
      "mount_file_id": "1m9aGpqpRBDa-gKu9hJwIakmRCKOgousd",
      "authorship_tag": "ABX9TyNLbWq9VvDtbfYqDGIRl1hs",
      "include_colab_link": true
    },
    "kernelspec": {
      "name": "python3",
      "display_name": "Python 3"
    },
    "language_info": {
      "name": "python"
    }
  },
  "cells": [
    {
      "cell_type": "markdown",
      "metadata": {
        "id": "view-in-github",
        "colab_type": "text"
      },
      "source": [
        "<a href=\"https://colab.research.google.com/github/chw8207/python_algorithm/blob/main/%EC%84%A0%ED%98%95%EB%A6%AC%EC%8A%A4%ED%8A%B8.ipynb\" target=\"_parent\"><img src=\"https://colab.research.google.com/assets/colab-badge.svg\" alt=\"Open In Colab\"/></a>"
      ]
    },
    {
      "cell_type": "markdown",
      "source": [
        "1. 데이터가 5개인 선형 리스트 생성"
      ],
      "metadata": {
        "id": "dPyb3rhlljCF"
      }
    },
    {
      "cell_type": "code",
      "execution_count": 2,
      "metadata": {
        "colab": {
          "base_uri": "https://localhost:8080/"
        },
        "id": "mAnbU9wHiQrP",
        "outputId": "8f000c78-e1ca-4b07-8bcc-58a003fc7d35"
      },
      "outputs": [
        {
          "output_type": "stream",
          "name": "stdout",
          "text": [
            "['다현', '정연', '쯔위', '사나', '지효']\n"
          ]
        }
      ],
      "source": [
        "katok = ['다현','정연','쯔위','사나','지효']\n",
        "print(katok)"
      ]
    },
    {
      "cell_type": "markdown",
      "source": [
        "2. 데이터 삽입"
      ],
      "metadata": {
        "id": "o2xU6_X3l_AU"
      }
    },
    {
      "cell_type": "code",
      "source": [
        "# 빈칸 삽입하기\n",
        "katok.append(None)\n",
        "print(katok)"
      ],
      "metadata": {
        "colab": {
          "base_uri": "https://localhost:8080/"
        },
        "id": "dFEjxrUZlvWM",
        "outputId": "ad2be741-b762-4f65-ecad-e1e16c79f1a0"
      },
      "execution_count": 3,
      "outputs": [
        {
          "output_type": "stream",
          "name": "stdout",
          "text": [
            "['다현', '정연', '쯔위', '사나', '지효', None]\n"
          ]
        }
      ]
    },
    {
      "cell_type": "code",
      "source": [
        "katok[5] = '모모'\n",
        "print(katok)"
      ],
      "metadata": {
        "colab": {
          "base_uri": "https://localhost:8080/"
        },
        "id": "VwyjuLyYm2J5",
        "outputId": "bcdbadd1-9a49-412c-e65b-f0760ee4174c"
      },
      "execution_count": 4,
      "outputs": [
        {
          "output_type": "stream",
          "name": "stdout",
          "text": [
            "['다현', '정연', '쯔위', '사나', '지효', '모모']\n"
          ]
        }
      ]
    },
    {
      "cell_type": "code",
      "source": [
        "# 카톡 횟수가 40회인 미나 데이터 삽입하기\n",
        "# 2등과 3등 사이\n",
        "katok.append(None)\n",
        "print(katok)"
      ],
      "metadata": {
        "colab": {
          "base_uri": "https://localhost:8080/"
        },
        "id": "iQOOzCd_nFO5",
        "outputId": "fdfa3c0c-25ea-4543-9087-cea3a2e6a050"
      },
      "execution_count": 5,
      "outputs": [
        {
          "output_type": "stream",
          "name": "stdout",
          "text": [
            "['다현', '정연', '쯔위', '사나', '지효', '모모', None]\n"
          ]
        }
      ]
    },
    {
      "cell_type": "code",
      "source": [
        "katok[6] = katok[5]\n",
        "katok[5] = None # 빈칸으로 만들기\n",
        "print(katok)"
      ],
      "metadata": {
        "colab": {
          "base_uri": "https://localhost:8080/"
        },
        "id": "ZeJaRPhonejk",
        "outputId": "f5aa7817-0041-4e7a-ae8d-8a6124578cf3"
      },
      "execution_count": 6,
      "outputs": [
        {
          "output_type": "stream",
          "name": "stdout",
          "text": [
            "['다현', '정연', '쯔위', '사나', '지효', None, '모모']\n"
          ]
        }
      ]
    },
    {
      "cell_type": "code",
      "source": [
        "katok[5] = katok[4]\n",
        "katok[4] = None\n",
        "\n",
        "katok[4] = katok[3]\n",
        "katok[3] = None\n",
        "print(katok)"
      ],
      "metadata": {
        "colab": {
          "base_uri": "https://localhost:8080/"
        },
        "id": "5sMyGZoTnp1C",
        "outputId": "00335a85-6c5b-430f-e290-e959cacf38dd"
      },
      "execution_count": 7,
      "outputs": [
        {
          "output_type": "stream",
          "name": "stdout",
          "text": [
            "['다현', '정연', '쯔위', None, '사나', '지효', '모모']\n"
          ]
        }
      ]
    },
    {
      "cell_type": "code",
      "source": [
        "katok[3] = '미나'\n",
        "print(katok)"
      ],
      "metadata": {
        "colab": {
          "base_uri": "https://localhost:8080/"
        },
        "id": "HD583SkvoJxt",
        "outputId": "f004b851-07e2-4eec-f4bc-2a58bec0f253"
      },
      "execution_count": 8,
      "outputs": [
        {
          "output_type": "stream",
          "name": "stdout",
          "text": [
            "['다현', '정연', '쯔위', '미나', '사나', '지효', '모모']\n"
          ]
        }
      ]
    },
    {
      "cell_type": "markdown",
      "source": [
        "3. 데이터 삭제"
      ],
      "metadata": {
        "id": "PhT-k_7UoN16"
      }
    },
    {
      "cell_type": "code",
      "source": [
        "katok[4] = None\n",
        "print(katok)"
      ],
      "metadata": {
        "colab": {
          "base_uri": "https://localhost:8080/"
        },
        "id": "Dom6lBxXoNuw",
        "outputId": "c82701be-2eed-4fa9-9a65-b9baee9fce2a"
      },
      "execution_count": 9,
      "outputs": [
        {
          "output_type": "stream",
          "name": "stdout",
          "text": [
            "['다현', '정연', '쯔위', '미나', None, '지효', '모모']\n"
          ]
        }
      ]
    },
    {
      "cell_type": "code",
      "source": [
        "katok[4] = katok[5]\n",
        "katok[5] = None\n",
        "\n",
        "katok[5] = katok[6]\n",
        "katok[6] = None\n",
        "print(katok)"
      ],
      "metadata": {
        "colab": {
          "base_uri": "https://localhost:8080/"
        },
        "id": "h_iWz5rzpctp",
        "outputId": "467a78f0-c69f-47e3-d4c0-9173d80f6cdb"
      },
      "execution_count": 10,
      "outputs": [
        {
          "output_type": "stream",
          "name": "stdout",
          "text": [
            "['다현', '정연', '쯔위', '미나', '지효', '모모', None]\n"
          ]
        }
      ]
    },
    {
      "cell_type": "code",
      "source": [
        "del(katok[6])\n",
        "print(katok)"
      ],
      "metadata": {
        "colab": {
          "base_uri": "https://localhost:8080/"
        },
        "id": "qUuvl8jgpsPC",
        "outputId": "608d762c-8748-4417-dce4-b4592edde067"
      },
      "execution_count": 11,
      "outputs": [
        {
          "output_type": "stream",
          "name": "stdout",
          "text": [
            "['다현', '정연', '쯔위', '미나', '지효', '모모']\n"
          ]
        }
      ]
    },
    {
      "cell_type": "markdown",
      "source": [
        "### 선형 리스트의 일반 구현"
      ],
      "metadata": {
        "id": "q5QMR4Rbpwn9"
      }
    },
    {
      "cell_type": "markdown",
      "source": [
        "1. 배열을 이용한 선형 리스트 생성"
      ],
      "metadata": {
        "id": "Q_Yt2JmHp0e3"
      }
    },
    {
      "cell_type": "code",
      "source": [
        "katok = []"
      ],
      "metadata": {
        "id": "PGN_5S79pwgS"
      },
      "execution_count": 12,
      "outputs": []
    },
    {
      "cell_type": "code",
      "source": [
        "# 카톡 배열에 다현 추가하기\n",
        "katok.append(None)\n",
        "katok[len(katok)-1] = '다현'\n",
        "print(katok)"
      ],
      "metadata": {
        "colab": {
          "base_uri": "https://localhost:8080/"
        },
        "id": "EE8SI1E0qZ2K",
        "outputId": "a615e39e-0045-4d5e-ac1b-fd0da6b32ca8"
      },
      "execution_count": 13,
      "outputs": [
        {
          "output_type": "stream",
          "name": "stdout",
          "text": [
            "['다현']\n"
          ]
        }
      ]
    },
    {
      "cell_type": "code",
      "source": [
        "# 추가로 정연 데이터 추가하기\n",
        "katok.append(None)\n",
        "katok[len(katok)-1] = '정연'\n",
        "print(katok)"
      ],
      "metadata": {
        "colab": {
          "base_uri": "https://localhost:8080/"
        },
        "id": "T1Ybmj0aqpcO",
        "outputId": "18712d71-0cac-40ec-b4f5-bcf39ccacba3"
      },
      "execution_count": 14,
      "outputs": [
        {
          "output_type": "stream",
          "name": "stdout",
          "text": [
            "['다현', '정연']\n"
          ]
        }
      ]
    },
    {
      "cell_type": "markdown",
      "source": [
        "2. 선형 리스트 생성 함수"
      ],
      "metadata": {
        "id": "eJEcVKL4qyKJ"
      }
    },
    {
      "cell_type": "code",
      "source": [
        "# 5명을 차례대로 추가하는 코드\n",
        "katok = []\n",
        "\n",
        "def add_data(friend) :\n",
        "  katok.append(None)\n",
        "  katok[len(katok)-1] = friend"
      ],
      "metadata": {
        "id": "LNOQBqVrqyAt"
      },
      "execution_count": 15,
      "outputs": []
    },
    {
      "cell_type": "code",
      "source": [
        "add_data('다현')\n",
        "add_data('정연')\n",
        "add_data('쯔위')\n",
        "add_data('사나')\n",
        "add_data('지효')\n",
        "\n",
        "print(katok)"
      ],
      "metadata": {
        "colab": {
          "base_uri": "https://localhost:8080/"
        },
        "id": "3MrfLD-6rDKx",
        "outputId": "1e1ec5d7-4f75-49f1-85d8-4e4db8bd9777"
      },
      "execution_count": 16,
      "outputs": [
        {
          "output_type": "stream",
          "name": "stdout",
          "text": [
            "['다현', '정연', '쯔위', '사나', '지효']\n"
          ]
        }
      ]
    },
    {
      "cell_type": "markdown",
      "source": [
        "3.데이터 삽입"
      ],
      "metadata": {
        "id": "uqSNqk2rrUM9"
      }
    },
    {
      "cell_type": "markdown",
      "source": [
        "- 중간 데이터 삽입"
      ],
      "metadata": {
        "id": "1XpGVEXqufUh"
      }
    },
    {
      "cell_type": "markdown",
      "source": [
        "\n",
        "\n",
        "```python\n",
        "katok.append(None)\n",
        "\n",
        "for 현재위치 in range(마지막위치, 지정위치, -1) :\n",
        "  katok[현재위치] = katok[현재위치-1]\n",
        "  katok[현재위치-1] = None\n",
        "\n",
        "katok[지정위치] = friend\n",
        "```\n",
        "\n"
      ],
      "metadata": {
        "id": "MPwQcIS0sG8I"
      }
    },
    {
      "cell_type": "markdown",
      "source": [
        "- 맨 끝 데이터 삽입"
      ],
      "metadata": {
        "id": "kItN8if88h7v"
      }
    },
    {
      "cell_type": "markdown",
      "source": [
        "\n",
        "\n",
        "```python\n",
        "katok.append(None)\n",
        "\n",
        "for 현재위치 in range(마지막위치, 지정위치, -1) : # 작동하지 않음.\n",
        "  katok[현재위치] = katok[현재위치-1]\n",
        "  katok[현재위치-1] = None\n",
        "\n",
        "katok[지정위치] = friend\n",
        "```\n",
        "\n"
      ],
      "metadata": {
        "id": "QS9HdZ3a8ju6"
      }
    },
    {
      "cell_type": "markdown",
      "source": [],
      "metadata": {
        "id": "1t0c-tHG9aGM"
      }
    },
    {
      "cell_type": "code",
      "source": [],
      "metadata": {
        "id": "wcGz0lntrUEp"
      },
      "execution_count": 16,
      "outputs": []
    }
  ]
}