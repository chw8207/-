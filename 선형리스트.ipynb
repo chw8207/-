{
  "nbformat": 4,
  "nbformat_minor": 0,
  "metadata": {
    "colab": {
      "provenance": [],
      "mount_file_id": "1m9aGpqpRBDa-gKu9hJwIakmRCKOgousd",
      "authorship_tag": "ABX9TyP3YUg+q7EGGBUlIXW57k5U",
      "include_colab_link": true
    },
    "kernelspec": {
      "name": "python3",
      "display_name": "Python 3"
    },
    "language_info": {
      "name": "python"
    }
  },
  "cells": [
    {
      "cell_type": "markdown",
      "metadata": {
        "id": "view-in-github",
        "colab_type": "text"
      },
      "source": [
        "<a href=\"https://colab.research.google.com/github/chw8207/python_algorithm/blob/main/%EC%84%A0%ED%98%95%EB%A6%AC%EC%8A%A4%ED%8A%B8.ipynb\" target=\"_parent\"><img src=\"https://colab.research.google.com/assets/colab-badge.svg\" alt=\"Open In Colab\"/></a>"
      ]
    },
    {
      "cell_type": "markdown",
      "source": [
        "1. 데이터가 5개인 선형 리스트 생성"
      ],
      "metadata": {
        "id": "dPyb3rhlljCF"
      }
    },
    {
      "cell_type": "code",
      "execution_count": null,
      "metadata": {
        "colab": {
          "base_uri": "https://localhost:8080/"
        },
        "id": "mAnbU9wHiQrP",
        "outputId": "8f000c78-e1ca-4b07-8bcc-58a003fc7d35"
      },
      "outputs": [
        {
          "output_type": "stream",
          "name": "stdout",
          "text": [
            "['다현', '정연', '쯔위', '사나', '지효']\n"
          ]
        }
      ],
      "source": [
        "katok = ['다현','정연','쯔위','사나','지효']\n",
        "print(katok)"
      ]
    },
    {
      "cell_type": "markdown",
      "source": [
        "2. 데이터 삽입"
      ],
      "metadata": {
        "id": "o2xU6_X3l_AU"
      }
    },
    {
      "cell_type": "code",
      "source": [
        "# 빈칸 삽입하기\n",
        "katok.append(None)\n",
        "print(katok)"
      ],
      "metadata": {
        "colab": {
          "base_uri": "https://localhost:8080/"
        },
        "id": "dFEjxrUZlvWM",
        "outputId": "ad2be741-b762-4f65-ecad-e1e16c79f1a0"
      },
      "execution_count": null,
      "outputs": [
        {
          "output_type": "stream",
          "name": "stdout",
          "text": [
            "['다현', '정연', '쯔위', '사나', '지효', None]\n"
          ]
        }
      ]
    },
    {
      "cell_type": "code",
      "source": [
        "katok[5] = '모모'\n",
        "print(katok)"
      ],
      "metadata": {
        "colab": {
          "base_uri": "https://localhost:8080/"
        },
        "id": "VwyjuLyYm2J5",
        "outputId": "bcdbadd1-9a49-412c-e65b-f0760ee4174c"
      },
      "execution_count": null,
      "outputs": [
        {
          "output_type": "stream",
          "name": "stdout",
          "text": [
            "['다현', '정연', '쯔위', '사나', '지효', '모모']\n"
          ]
        }
      ]
    },
    {
      "cell_type": "code",
      "source": [
        "# 카톡 횟수가 40회인 미나 데이터 삽입하기\n",
        "# 2등과 3등 사이\n",
        "katok.append(None)\n",
        "print(katok)"
      ],
      "metadata": {
        "colab": {
          "base_uri": "https://localhost:8080/"
        },
        "id": "iQOOzCd_nFO5",
        "outputId": "fdfa3c0c-25ea-4543-9087-cea3a2e6a050"
      },
      "execution_count": null,
      "outputs": [
        {
          "output_type": "stream",
          "name": "stdout",
          "text": [
            "['다현', '정연', '쯔위', '사나', '지효', '모모', None]\n"
          ]
        }
      ]
    },
    {
      "cell_type": "code",
      "source": [
        "katok[6] = katok[5]\n",
        "katok[5] = None # 빈칸으로 만들기\n",
        "print(katok)"
      ],
      "metadata": {
        "colab": {
          "base_uri": "https://localhost:8080/"
        },
        "id": "ZeJaRPhonejk",
        "outputId": "f5aa7817-0041-4e7a-ae8d-8a6124578cf3"
      },
      "execution_count": null,
      "outputs": [
        {
          "output_type": "stream",
          "name": "stdout",
          "text": [
            "['다현', '정연', '쯔위', '사나', '지효', None, '모모']\n"
          ]
        }
      ]
    },
    {
      "cell_type": "code",
      "source": [
        "katok[5] = katok[4]\n",
        "katok[4] = None\n",
        "\n",
        "katok[4] = katok[3]\n",
        "katok[3] = None\n",
        "print(katok)"
      ],
      "metadata": {
        "colab": {
          "base_uri": "https://localhost:8080/"
        },
        "id": "5sMyGZoTnp1C",
        "outputId": "00335a85-6c5b-430f-e290-e959cacf38dd"
      },
      "execution_count": null,
      "outputs": [
        {
          "output_type": "stream",
          "name": "stdout",
          "text": [
            "['다현', '정연', '쯔위', None, '사나', '지효', '모모']\n"
          ]
        }
      ]
    },
    {
      "cell_type": "code",
      "source": [
        "katok[3] = '미나'\n",
        "print(katok)"
      ],
      "metadata": {
        "colab": {
          "base_uri": "https://localhost:8080/"
        },
        "id": "HD583SkvoJxt",
        "outputId": "f004b851-07e2-4eec-f4bc-2a58bec0f253"
      },
      "execution_count": null,
      "outputs": [
        {
          "output_type": "stream",
          "name": "stdout",
          "text": [
            "['다현', '정연', '쯔위', '미나', '사나', '지효', '모모']\n"
          ]
        }
      ]
    },
    {
      "cell_type": "markdown",
      "source": [
        "3. 데이터 삭제"
      ],
      "metadata": {
        "id": "PhT-k_7UoN16"
      }
    },
    {
      "cell_type": "code",
      "source": [
        "katok[4] = None\n",
        "print(katok)"
      ],
      "metadata": {
        "colab": {
          "base_uri": "https://localhost:8080/"
        },
        "id": "Dom6lBxXoNuw",
        "outputId": "c82701be-2eed-4fa9-9a65-b9baee9fce2a"
      },
      "execution_count": null,
      "outputs": [
        {
          "output_type": "stream",
          "name": "stdout",
          "text": [
            "['다현', '정연', '쯔위', '미나', None, '지효', '모모']\n"
          ]
        }
      ]
    },
    {
      "cell_type": "code",
      "source": [
        "katok[4] = katok[5]\n",
        "katok[5] = None\n",
        "\n",
        "katok[5] = katok[6]\n",
        "katok[6] = None\n",
        "print(katok)"
      ],
      "metadata": {
        "colab": {
          "base_uri": "https://localhost:8080/"
        },
        "id": "h_iWz5rzpctp",
        "outputId": "467a78f0-c69f-47e3-d4c0-9173d80f6cdb"
      },
      "execution_count": null,
      "outputs": [
        {
          "output_type": "stream",
          "name": "stdout",
          "text": [
            "['다현', '정연', '쯔위', '미나', '지효', '모모', None]\n"
          ]
        }
      ]
    },
    {
      "cell_type": "code",
      "source": [
        "del(katok[6])\n",
        "print(katok)"
      ],
      "metadata": {
        "colab": {
          "base_uri": "https://localhost:8080/"
        },
        "id": "qUuvl8jgpsPC",
        "outputId": "608d762c-8748-4417-dce4-b4592edde067"
      },
      "execution_count": null,
      "outputs": [
        {
          "output_type": "stream",
          "name": "stdout",
          "text": [
            "['다현', '정연', '쯔위', '미나', '지효', '모모']\n"
          ]
        }
      ]
    },
    {
      "cell_type": "markdown",
      "source": [
        "### 선형 리스트의 일반 구현"
      ],
      "metadata": {
        "id": "q5QMR4Rbpwn9"
      }
    },
    {
      "cell_type": "markdown",
      "source": [
        "1. 배열을 이용한 선형 리스트 생성"
      ],
      "metadata": {
        "id": "Q_Yt2JmHp0e3"
      }
    },
    {
      "cell_type": "code",
      "source": [
        "katok = []"
      ],
      "metadata": {
        "id": "PGN_5S79pwgS"
      },
      "execution_count": null,
      "outputs": []
    },
    {
      "cell_type": "code",
      "source": [
        "# 카톡 배열에 다현 추가하기\n",
        "katok.append(None)\n",
        "katok[len(katok)-1] = '다현'\n",
        "print(katok)"
      ],
      "metadata": {
        "colab": {
          "base_uri": "https://localhost:8080/"
        },
        "id": "EE8SI1E0qZ2K",
        "outputId": "a615e39e-0045-4d5e-ac1b-fd0da6b32ca8"
      },
      "execution_count": null,
      "outputs": [
        {
          "output_type": "stream",
          "name": "stdout",
          "text": [
            "['다현']\n"
          ]
        }
      ]
    },
    {
      "cell_type": "code",
      "source": [
        "# 추가로 정연 데이터 추가하기\n",
        "katok.append(None)\n",
        "katok[len(katok)-1] = '정연'\n",
        "print(katok)"
      ],
      "metadata": {
        "colab": {
          "base_uri": "https://localhost:8080/"
        },
        "id": "T1Ybmj0aqpcO",
        "outputId": "18712d71-0cac-40ec-b4f5-bcf39ccacba3"
      },
      "execution_count": null,
      "outputs": [
        {
          "output_type": "stream",
          "name": "stdout",
          "text": [
            "['다현', '정연']\n"
          ]
        }
      ]
    },
    {
      "cell_type": "markdown",
      "source": [
        "2. 선형 리스트 생성 함수"
      ],
      "metadata": {
        "id": "eJEcVKL4qyKJ"
      }
    },
    {
      "cell_type": "code",
      "source": [
        "# 5명을 차례대로 추가하는 코드\n",
        "katok = []\n",
        "\n",
        "def add_data(friend) :\n",
        "  katok.append(None)\n",
        "  katok[len(katok)-1] = friend"
      ],
      "metadata": {
        "id": "LNOQBqVrqyAt"
      },
      "execution_count": null,
      "outputs": []
    },
    {
      "cell_type": "code",
      "source": [
        "add_data('다현')\n",
        "add_data('정연')\n",
        "add_data('쯔위')\n",
        "add_data('사나')\n",
        "add_data('지효')\n",
        "\n",
        "print(katok)"
      ],
      "metadata": {
        "colab": {
          "base_uri": "https://localhost:8080/"
        },
        "id": "3MrfLD-6rDKx",
        "outputId": "1e1ec5d7-4f75-49f1-85d8-4e4db8bd9777"
      },
      "execution_count": null,
      "outputs": [
        {
          "output_type": "stream",
          "name": "stdout",
          "text": [
            "['다현', '정연', '쯔위', '사나', '지효']\n"
          ]
        }
      ]
    },
    {
      "cell_type": "markdown",
      "source": [
        "3.데이터 삽입"
      ],
      "metadata": {
        "id": "uqSNqk2rrUM9"
      }
    },
    {
      "cell_type": "markdown",
      "source": [
        "- 중간 데이터 삽입"
      ],
      "metadata": {
        "id": "1XpGVEXqufUh"
      }
    },
    {
      "cell_type": "markdown",
      "source": [
        "\n",
        "\n",
        "```python\n",
        "katok.append(None)\n",
        "\n",
        "for 현재위치 in range(마지막위치, 지정위치, -1) :\n",
        "  katok[현재위치] = katok[현재위치-1]\n",
        "  katok[현재위치-1] = None\n",
        "\n",
        "katok[지정위치] = friend\n",
        "```\n",
        "\n"
      ],
      "metadata": {
        "id": "MPwQcIS0sG8I"
      }
    },
    {
      "cell_type": "markdown",
      "source": [
        "- 맨 끝 데이터 삽입"
      ],
      "metadata": {
        "id": "kItN8if88h7v"
      }
    },
    {
      "cell_type": "markdown",
      "source": [
        "\n",
        "\n",
        "```python\n",
        "katok.append(None)\n",
        "\n",
        "for 현재위치 in range(마지막위치, 지정위치, -1) : # 작동하지 않음.\n",
        "  katok[현재위치] = katok[현재위치-1]\n",
        "  katok[현재위치-1] = None\n",
        "\n",
        "katok[지정위치] = friend\n",
        "```\n",
        "\n"
      ],
      "metadata": {
        "id": "QS9HdZ3a8ju6"
      }
    },
    {
      "cell_type": "markdown",
      "source": [
        "4. 데이터 삽입 함수"
      ],
      "metadata": {
        "id": "1t0c-tHG9aGM"
      }
    },
    {
      "cell_type": "code",
      "source": [
        "katok = ['다현','정연','쯔위','사나','지효']\n",
        "\n",
        "def insert_data(position, friend) :\n",
        "  if position < 0 or position > len(katok) :\n",
        "    print('데이터를 삽입할 범위를 벗어났습니다.')\n",
        "    return\n",
        "\n",
        "  katok.append(None)\n",
        "  kLen = len(katok)  # 배열의 현재 크기\n",
        "\n",
        "  for i in range(kLen-1, position, -1) :\n",
        "    katok[i] = katok[i-1]\n",
        "    katok[i-1] = None\n",
        "\n",
        "  katok[position] = friend"
      ],
      "metadata": {
        "id": "wcGz0lntrUEp"
      },
      "execution_count": null,
      "outputs": []
    },
    {
      "cell_type": "code",
      "source": [
        "insert_data(2, '솔라')\n",
        "print(katok)"
      ],
      "metadata": {
        "colab": {
          "base_uri": "https://localhost:8080/"
        },
        "id": "vU3Mm37gYgxQ",
        "outputId": "13807913-1e67-44d2-b64b-7d556569bfe8"
      },
      "execution_count": null,
      "outputs": [
        {
          "output_type": "stream",
          "name": "stdout",
          "text": [
            "['다현', '정연', '솔라', '쯔위', '사나', '지효']\n"
          ]
        }
      ]
    },
    {
      "cell_type": "code",
      "source": [
        "insert_data(6, '문별')\n",
        "print(katok)"
      ],
      "metadata": {
        "colab": {
          "base_uri": "https://localhost:8080/"
        },
        "id": "m0VgKwYfaYbK",
        "outputId": "ced211b4-780d-4110-9e32-4b005ac76e71"
      },
      "execution_count": null,
      "outputs": [
        {
          "output_type": "stream",
          "name": "stdout",
          "text": [
            "['다현', '정연', '솔라', '쯔위', '사나', '지효', '문별']\n"
          ]
        }
      ]
    },
    {
      "cell_type": "markdown",
      "source": [
        "5. 데이터 삭제"
      ],
      "metadata": {
        "id": "McEZz6hcfWqK"
      }
    },
    {
      "cell_type": "markdown",
      "source": [
        "\n",
        "\n",
        "```python\n",
        "katok[지정위치] = None\n",
        "\n",
        "for 현재위치 in range(지정위치+1, 마지막위치+1) :\n",
        "  katok[현재위치-1] = katok[현재위치]\n",
        "  katok[현재위치] = None\n",
        "\n",
        "del(katok[지정위치])\n",
        "```\n",
        "\n"
      ],
      "metadata": {
        "id": "A1reAFARfkyJ"
      }
    },
    {
      "cell_type": "code",
      "source": [
        "katok = ['다현', '정연', '쯔위', '사나', '지효']\n",
        "\n",
        "def delete_data(position) :\n",
        "  if position < 0 or position > len(katok) :\n",
        "    print('데이터를 삭제할 범위를 벗어났습니다.')\n",
        "\n",
        "  kLen = len(katok)\n",
        "  katok[position] = None\n",
        "\n",
        "  for i in range(position+1, kLen) :\n",
        "    katok[i-1] = katok[i]\n",
        "    katok[i] = None\n",
        "\n",
        "  del(katok[kLen-1])"
      ],
      "metadata": {
        "id": "52JJD8UPfWf2"
      },
      "execution_count": 3,
      "outputs": []
    },
    {
      "cell_type": "code",
      "source": [
        "delete_data(1)\n",
        "print(katok)\n",
        "delete_data(3)\n",
        "print(katok)"
      ],
      "metadata": {
        "colab": {
          "base_uri": "https://localhost:8080/"
        },
        "id": "ljZg_CrowV6P",
        "outputId": "7149a17d-3950-4d37-c9dc-85882f5eb295"
      },
      "execution_count": 4,
      "outputs": [
        {
          "output_type": "stream",
          "name": "stdout",
          "text": [
            "['다현', '쯔위', '사나', '지효']\n",
            "['다현', '쯔위', '사나']\n"
          ]
        }
      ]
    },
    {
      "cell_type": "markdown",
      "source": [
        "### 선형 리스트 전체 코드"
      ],
      "metadata": {
        "id": "AgdqA2zP0UIO"
      }
    },
    {
      "cell_type": "code",
      "source": [
        "# 함수 선언 부분\n",
        "def add_data(friend) :\n",
        "\n",
        "  katok.append(None)\n",
        "  kLen = len(katok)\n",
        "  katok[kLen-1] = friend\n",
        "\n",
        "def insert_data(position, friend) :\n",
        "  if position < 0 or position > len(katok) :\n",
        "    print('데이터를 삽입할 범위를 벗어났습니다.')\n",
        "    return\n",
        "\n",
        "  katok.append(None)\n",
        "  kLen = len(katok)\n",
        "\n",
        "  for i in range(kLen-1, position, -1) :\n",
        "    katok[i] = katok[i-1]\n",
        "    katok[i-1] = None\n",
        "\n",
        "  katok[position] = friend\n",
        "\n",
        "def delete_data(position) :\n",
        "  if position < 0 or position > len(katok) :\n",
        "    print('데이터를 삽입할 범위를 벗어났습니다.')\n",
        "    return\n",
        "\n",
        "  kLen = len(katok)\n",
        "  katok[position] = None\n",
        "\n",
        "  for i in range(position+1, kLen) :\n",
        "    katok[i-1] = katok[i]\n",
        "    katok[i] = None\n",
        "\n",
        "  del(katok[kLen-1])\n",
        "\n",
        "# 전역 변수 선언 부분\n",
        "katok = []\n",
        "select = -1\n",
        "\n",
        "# 메인 코드 부분\n",
        "if __name__ == '__main__' :\n",
        "  while (select != 4) :\n",
        "    select = int(input('선택하세요(1: 추가, 2: 삽입, 3: 삭제, 4: 종료)-->'))\n",
        "\n",
        "    if (select == 1) :\n",
        "      data = input('추가할 데이터-->')\n",
        "      add_data(data)\n",
        "      print(katok)\n",
        "    elif (select == 2) :\n",
        "      pos = int(input('삽입할 위치-->'))\n",
        "      data = input('추가할 데이터-->')\n",
        "      insert_data(pos, data)\n",
        "      print(katok)\n",
        "    elif (select == 3) :\n",
        "      pos = int(input('삭제할 위치-->'))\n",
        "      delete_data(pos)\n",
        "      print(katok)\n",
        "    elif (select == 4) :\n",
        "      print(katok)\n",
        "      exit\n",
        "    else :\n",
        "      print('1~4 중 하나를 입력하세요.')\n",
        "      continue"
      ],
      "metadata": {
        "colab": {
          "base_uri": "https://localhost:8080/"
        },
        "id": "PBLC5OMcwe6c",
        "outputId": "6e4314a4-a7d5-4b66-8d8c-c21f17d39236"
      },
      "execution_count": 5,
      "outputs": [
        {
          "output_type": "stream",
          "name": "stdout",
          "text": [
            "선택하세요(1: 추가, 2: 삽입, 3: 삭제, 4: 종료)-->1\n",
            "추가할 데이터-->다현\n",
            "['다현']\n",
            "선택하세요(1: 추가, 2: 삽입, 3: 삭제, 4: 종료)-->1\n",
            "추가할 데이터-->정연\n",
            "['다현', '정연']\n",
            "선택하세요(1: 추가, 2: 삽입, 3: 삭제, 4: 종료)-->2\n",
            "삽입할 위치-->1\n",
            "추가할 데이터-->하나\n",
            "['다현', '하나', '정연']\n",
            "선택하세요(1: 추가, 2: 삽입, 3: 삭제, 4: 종료)-->2\n",
            "삽입할 위치-->0\n",
            "추가할 데이터-->문별\n",
            "['문별', '다현', '하나', '정연']\n",
            "선택하세요(1: 추가, 2: 삽입, 3: 삭제, 4: 종료)-->3\n",
            "삭제할 위치-->3\n",
            "['문별', '다현', '하나']\n",
            "선택하세요(1: 추가, 2: 삽입, 3: 삭제, 4: 종료)-->4\n",
            "['문별', '다현', '하나']\n"
          ]
        }
      ]
    },
    {
      "cell_type": "markdown",
      "source": [
        "### 선형 리스트의 응용"
      ],
      "metadata": {
        "id": "20-l93_nR00K"
      }
    },
    {
      "cell_type": "markdown",
      "source": [
        "- 다항식"
      ],
      "metadata": {
        "id": "AWWX2g_ASAVT"
      }
    },
    {
      "cell_type": "code",
      "source": [
        "px = [7, -4, 0, 5]\n",
        "print(px)"
      ],
      "metadata": {
        "colab": {
          "base_uri": "https://localhost:8080/"
        },
        "id": "WNnkt7aXR0qR",
        "outputId": "18c86e6f-e787-471d-daae-07774f1c540b"
      },
      "execution_count": 6,
      "outputs": [
        {
          "output_type": "stream",
          "name": "stdout",
          "text": [
            "[7, -4, 0, 5]\n"
          ]
        }
      ]
    },
    {
      "cell_type": "code",
      "source": [
        "x = 2\n",
        "pxVal = 7*x**3 -4*x**2 +0*x**1 +5*x**0\n",
        "print(pxVal)"
      ],
      "metadata": {
        "colab": {
          "base_uri": "https://localhost:8080/"
        },
        "id": "zh9PrbhqSJ7f",
        "outputId": "0fb28c93-9c2d-434c-859e-dbaa42cfbf68"
      },
      "execution_count": 7,
      "outputs": [
        {
          "output_type": "stream",
          "name": "stdout",
          "text": [
            "45\n"
          ]
        }
      ]
    },
    {
      "cell_type": "code",
      "source": [
        "# 다항식 형태 출력해보기\n",
        "px = [7, -4, 0, 5]\n",
        "polyStr = 'P(x)='\n",
        "polyStr += '+' + str(px[0]) + 'x^' + str(3)\n",
        "polyStr += '+' + str(px[1]) + 'x^' + str(2)\n",
        "polyStr += '+' + str(px[2]) + 'x^' + str(1)\n",
        "polyStr += '+' + str(px[3]) + 'x^' + str(0)\n",
        "print(polyStr)"
      ],
      "metadata": {
        "colab": {
          "base_uri": "https://localhost:8080/"
        },
        "id": "NMzO2PeMST27",
        "outputId": "a57ce9d2-fd4d-4193-f01b-b1a9a02fb58f"
      },
      "execution_count": 11,
      "outputs": [
        {
          "output_type": "stream",
          "name": "stdout",
          "text": [
            "P(x)=+7x^3+-4x^2+0x^1+5x^0\n"
          ]
        }
      ]
    },
    {
      "cell_type": "markdown",
      "source": [
        "### 다항식의 선형 리스트 표현과 계산 프로그램"
      ],
      "metadata": {
        "id": "iWeDmh51S10W"
      }
    },
    {
      "cell_type": "code",
      "source": [
        "# 함수 선언 부분\n",
        "def printPoly(p_x) :\n",
        "  term = len(p_x) - 1  # 최고차항 숫자: 배열 길이 - 1\n",
        "  polyStr = 'P(x)='"
      ],
      "metadata": {
        "id": "22vFZpQpS1uh"
      },
      "execution_count": null,
      "outputs": []
    }
  ]
}